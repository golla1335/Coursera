{
 "cells": [
  {
   "cell_type": "code",
   "execution_count": null,
   "metadata": {},
   "outputs": [],
   "source": []
  },
  {
   "cell_type": "code",
   "execution_count": 3,
   "metadata": {},
   "outputs": [
    {
     "data": {
      "text/plain": [
       "(289, 3)"
      ]
     },
     "execution_count": 3,
     "metadata": {},
     "output_type": "execute_result"
    }
   ],
   "source": [
    "# import wiki table as Dataframe\n",
    "import requests\n",
    "import pandas as pd\n",
    "\n",
    "url = \"https://en.wikipedia.org/wiki/List_of_postal_codes_of_Canada:_M\"\n",
    "response = requests.get(url)\n",
    "df = pd.read_html(response.content,header=0)[0]\n",
    "df.shape"
   ]
  },
  {
   "cell_type": "code",
   "execution_count": 4,
   "metadata": {},
   "outputs": [
    {
     "name": "stdout",
     "output_type": "stream",
     "text": [
      "103 unique Postcodes, 11 unique Boroughs and 210 unique Neighbourhoods\n"
     ]
    }
   ],
   "source": [
    "#remove rows with borough not assigned\n",
    "df=df[df.Borough != 'Not assigned']\n",
    "df=df.reset_index(drop=True)\n",
    "print(\"{} unique Postcodes, {} unique Boroughs and {} unique Neighbourhoods\".format(len(df[\"Postcode\"].unique()),len(df[\"Borough\"].unique()),len(df[\"Neighbourhood\"].unique())))"
   ]
  },
  {
   "cell_type": "code",
   "execution_count": 5,
   "metadata": {},
   "outputs": [],
   "source": [
    "#if Neighbourhood not assigned use borough instead\n",
    "#and merge postcode which are used double\n",
    "    \n",
    "df.sort_values(by=[\"Postcode\"],inplace=True)\n",
    "df=df.reset_index(drop=True)\n",
    "maxIndex=df.index\n",
    "for index, row  in df.iterrows():\n",
    "    df.iterrows()\n",
    "    #if Neighbourhood not assigned use borough instead\n",
    "    if df['Neighbourhood'][index]  == 'Not assigned':\n",
    "        df['Neighbourhood'][index]=df['Borough'][index]\n",
    "    #merge postcode which are used double\n",
    "    if index < len(maxIndex)-1:\n",
    "        if  df['Postcode'][index] == df['Postcode'][index+1]:\n",
    "            df['Neighbourhood'][index+1] = df['Neighbourhood'][index]+\",\"+df['Neighbourhood'][index+1]\n",
    "            df=df.drop(index, axis=0)\n",
    "            \n"
   ]
  },
  {
   "cell_type": "code",
   "execution_count": 292,
   "metadata": {},
   "outputs": [
    {
     "data": {
      "text/plain": [
       "(103, 3)"
      ]
     },
     "execution_count": 292,
     "metadata": {},
     "output_type": "execute_result"
    }
   ],
   "source": [
    "df.shape"
   ]
  },
  {
   "cell_type": "code",
   "execution_count": null,
   "metadata": {},
   "outputs": [],
   "source": []
  }
 ],
 "metadata": {
  "kernelspec": {
   "display_name": "Python 3",
   "language": "python",
   "name": "python3"
  },
  "language_info": {
   "codemirror_mode": {
    "name": "ipython",
    "version": 3
   },
   "file_extension": ".py",
   "mimetype": "text/x-python",
   "name": "python",
   "nbconvert_exporter": "python",
   "pygments_lexer": "ipython3",
   "version": "3.7.1"
  }
 },
 "nbformat": 4,
 "nbformat_minor": 2
}
